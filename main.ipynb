{
 "cells": [
  {
   "cell_type": "code",
   "execution_count": 13,
   "metadata": {},
   "outputs": [],
   "source": [
    "import nltk\n",
    "#nltk.download('punkt')\n",
    "import numpy as np\n",
    "import string\n",
    "import gensim.downloader as api\n",
    "import tensorflow as tf\n",
    "from keras.models import Model, Sequential\n",
    "from keras.layers import Conv1D, MaxPooling1D, Dense, Flatten, Reshape, BatchNormalization, Conv2DTranspose, Convolution2D, Activation, GlobalAveragePooling2D\n",
    "from keras.callbacks import EarlyStopping\n",
    "from keras.layers import LeakyReLU\n",
    "from sklearn import ensemble\n",
    "from sklearn import datasets\n",
    "from sklearn.utils import shuffle\n",
    "from sklearn.metrics import mean_squared_error\n",
    "from scipy import stats\n",
    "import xgboost as xg\n",
    "from xgboost import plot_tree\n",
    "import matplotlib.pyplot as plt\n",
    "\n",
    "def read_and_preprocess_file(sentences_file, labels_file):\n",
    "    \n",
    "    sentences = list()\n",
    "    labels = list()\n",
    "    \n",
    "    # Sentences pairs\n",
    "    with open(sentences_file, \"r\") as file:\n",
    "\n",
    "        for line in file:\n",
    "\n",
    "            # To lower case\n",
    "            line = line.lower()\n",
    "\n",
    "            # Remove punctuation\n",
    "            line = line.translate(str.maketrans({key: None for key in string.punctuation}))\n",
    "\n",
    "            # Tokenize both sentences\n",
    "            line = line.split('\\t')\n",
    "\n",
    "            sentence1 = nltk.word_tokenize(line[0])\n",
    "            sentence2 = nltk.word_tokenize(line[1][:-1])\n",
    "\n",
    "            # Save sentences\n",
    "            sentences.append(list([sentence1, sentence2]))\n",
    "    \n",
    "    # Labels\n",
    "    with open(labels_file, \"r\") as file:\n",
    "\n",
    "        for line in file:\n",
    "\n",
    "            # Save label\n",
    "            labels.append(line[:-1])\n",
    "            \n",
    "    return sentences, labels\n",
    "\n",
    "\n",
    "def sentence2embedded(sentence, model, model_tam_embedded, max_sentence_length):\n",
    "    embedded_sentence = [model[elem].tolist() if elem in model.vocab else np.zeros(model_tam_embedded).tolist() for elem in sentence]\n",
    "\n",
    "    for i in range(len(embedded_sentence), max_sentence_length):\n",
    "        embedded_sentence.append(np.zeros(model_tam_embedded).tolist())\n",
    "        \n",
    "    return embedded_sentence\n",
    "        \n",
    "def pairsentences2embedded(sentence1, sentence2, model, model_tam_embedded, max_sentence_length):\n",
    "    \n",
    "    sentence1_emb = sentence2embedded(sentence1, model, model_tam_embedded, max_sentence_length)\n",
    "    sentence2_emb = sentence2embedded(sentence2, model, model_tam_embedded, max_sentence_length)\n",
    "    \n",
    "    return sentence1_emb, sentence2_emb\n",
    "\n",
    "        \n",
    "def pairembeddedsentences2svd(embedded1, embedded2, model_tam_embedded, max_sentence_length):\n",
    "    \n",
    "    embedded1_np = np.array(embedded1).reshape(1, model_tam_embedded * max_sentence_length)\n",
    "    embedded2_np = np.array(embedded2).reshape(1, model_tam_embedded * max_sentence_length)\n",
    "    \n",
    "    diff = np.absolute(embedded1_np - embedded2_np)\n",
    "    hadamard = embedded1_np * embedded2_np\n",
    "    \n",
    "    return np.concatenate((diff, hadamard), axis=0).reshape(1, model_tam_embedded * max_sentence_length * 2)\n",
    "\n",
    "\n",
    "def get_max_sentence_length(sentences_list):\n",
    "    \n",
    "    max_length = 0\n",
    "    \n",
    "    for i in range(0, len(sentences)):\n",
    "        \n",
    "        sentences_pair = sentences[i]\n",
    "        \n",
    "        for j in range(0, len(sentences_pair)):\n",
    "            \n",
    "            if len(sentences_pair[j]) > max_length:\n",
    "                max_length = len(sentences_pair[j])\n",
    "    \n",
    "    return max_length"
   ]
  },
  {
   "cell_type": "code",
   "execution_count": 2,
   "metadata": {},
   "outputs": [
    {
     "name": "stdout",
     "output_type": "stream",
     "text": [
      "MODEL_TAM_EMBEDDED 100\n"
     ]
    }
   ],
   "source": [
    "###############\n",
    "# MODEL\n",
    "###############\n",
    "MODEL_TAM_EMBEDDED = 100\n",
    "print(\"MODEL_TAM_EMBEDDED\", MODEL_TAM_EMBEDDED)\n",
    "\n",
    "# Glove vectors\n",
    "word_vectors = api.load(\"glove-wiki-gigaword-100\")\n",
    "\n",
    "# Word2Vec vectors\n",
    "#word_vectors = api.load(\"word2vec-google-news-300\")"
   ]
  },
  {
   "cell_type": "code",
   "execution_count": 3,
   "metadata": {},
   "outputs": [
    {
     "name": "stdout",
     "output_type": "stream",
     "text": [
      "MAX_SENTENCE_LENGTH 30\n",
      "FINAL SHAPE INPUT (1, 6000)\n",
      "NUM OF INSTANCES 1500\n",
      "LE DAMOS OTRA VUELTA DE TUERCA\n",
      "FINAL SHAPE INPUT (6000,)\n"
     ]
    }
   ],
   "source": [
    "# Sentences and labels preprocessed\n",
    "sentences, labels = read_and_preprocess_file(\"./data/train/STS.input.MSRpar.txt\", \"./data/train/STS.gs.MSRpar.txt\")\n",
    "\n",
    "sentences_aux, labels_aux = read_and_preprocess_file(\"./data/train/STS.input.MSRvid.txt\", \"./data/train/STS.gs.MSRvid.txt\")\n",
    "\n",
    "for i in range(0, len(sentences_aux)):\n",
    "    \n",
    "    sentences.append(sentences_aux[i])\n",
    "    labels.append(labels_aux[i])\n",
    "\n",
    "# MAX SENTENCE LENGTH\n",
    "MAX_SENTENCE_LENGTH = get_max_sentence_length(sentences)\n",
    "print(\"MAX_SENTENCE_LENGTH\", MAX_SENTENCE_LENGTH)\n",
    "\n",
    "# Get final embeddeds\n",
    "final_sentences = list()\n",
    "\n",
    "for i in range(0, len(sentences)):\n",
    "    \n",
    "    emb1, emb2 = pairsentences2embedded(sentences[i][0], sentences[i][1], word_vectors, MODEL_TAM_EMBEDDED, MAX_SENTENCE_LENGTH)\n",
    "    final_sentences.append(pairembeddedsentences2svd(emb1, emb2, MODEL_TAM_EMBEDDED, MAX_SENTENCE_LENGTH))\n",
    "    \n",
    "print(\"FINAL SHAPE INPUT\", final_sentences[0].shape)\n",
    "print(\"NUM OF INSTANCES\", len(final_sentences))\n",
    "print(\"LE DAMOS OTRA VUELTA DE TUERCA\")\n",
    "\n",
    "final_sentences_reshaped = list()\n",
    "\n",
    "for i in range(0, len(final_sentences)):\n",
    "    final_sentences_reshaped.append(np.array(final_sentences[i]).flatten())\n",
    "    \n",
    "print(\"FINAL SHAPE INPUT\", final_sentences_reshaped[0].shape)"
   ]
  },
  {
   "cell_type": "code",
   "execution_count": 4,
   "metadata": {},
   "outputs": [],
   "source": [
    "#comput = word_vectors['computer']\n",
    "#'computer' in word_vectors.vocab\n",
    "#api.info()"
   ]
  },
  {
   "cell_type": "code",
   "execution_count": 5,
   "metadata": {},
   "outputs": [
    {
     "name": "stdout",
     "output_type": "stream",
     "text": [
      "Pearson Correlation Coefficient:  0.5198658219353182 and a P-value of: 3.055678636350304e-15\n"
     ]
    },
    {
     "data": {
      "text/plain": [
       "\"# KERAS FCNN MODEL\\nfrom keras.applications.vgg19 import VGG19\\nmodel = VGG19(include_top=False, weights='imagenet', input_shape=(100, 60, 3))\\n\\n# Modificaciones\\nx = model.output\\nx = GlobalAveragePooling2D()(x)\\n#x = Flatten()\\nx = Dense(1024, activation='sigmoid')(x) #we add dense layers so that the model can learn more complex functions and classify for better results.\\nx = Dense(1024, activation='sigmoid')(x) #dense layer 2\\nx = Dense(512, activation='sigmoid')(x) #dense layer 3\\npreds = Dense(1, activation='softmax')(x) #final layer with softmax activation\\n\\nmodel = Model(inputs=model.input, outputs=preds)\\n\\nmodel = tf.contrib.tpu.keras_to_tpu_model(model, strategy=tf.contrib.tpu.TPUDistributionStrategy(\\n    tf.contrib.cluster_resolver.TPUClusterResolver(tpu='grpc://10.0.101.2:8470')))\\n\\nmodel.compile(loss='mean_squared_error', optimizer='rmsprop', metrics=['mse'])\\n\\nmodel.summary()\\n\\nmodel.fit(final_sentences_reshaped, labels, batch_size=32, epochs=200, verbose=2)\\n\\n\\n# Keras FCNN model\\nfcnn = Sequential()\\nfcnn.add(Dense(300, input_shape=(180, 100), activation='tanh', kernel_initializer='normal'))\\nfcnn.add(Flatten())\\nfcnn.add(Dense(1, activation='sigmoid', kernel_initializer='normal'))\\n\\nfcnn.compile(loss='mean_squared_error', optimizer='rmsprop', metrics=['mse'])\\n\\nfcnn.summary()\\n\\n#fcnn.fit(final_sentences, labels, epochs=6, batch_size=32)\\n\\nearly_stopping = EarlyStopping(monitor='loss', patience=3)\\n#fcnn.fit(final_sentences_reshaped, labels, batch_size=32, epochs=200, verbose=2, validation_data=(final_sentences_reshaped, labels), callbacks=[early_stopping])\\nfcnn.fit(final_sentences_reshaped, labels, batch_size=32, epochs=200, verbose=2, callbacks=[early_stopping])\\n#fcnn.predict(X_trn, batch_size=1, verbose=2, steps=None)\""
      ]
     },
     "execution_count": 5,
     "metadata": {},
     "output_type": "execute_result"
    }
   ],
   "source": [
    "#print(\"Lista: \", final_sentences)\n",
    "final_sentences_reshaped = np.array(final_sentences_reshaped)\n",
    "labels = np.array(labels).astype(\"float32\")\n",
    "labels = np.interp(labels, (labels.min(), labels.max()), (0, +1))\n",
    "\n",
    "#print(\"A ver: \", final_sentences_reshaped.shape)\n",
    "#print(\"A ver2: \", labels.shape)\n",
    "#print(labels)\n",
    "#print(\"Interp: \", np.interp(labels, (labels.min(), labels.max()), (0, +1)))\n",
    "X_trn = final_sentences_reshaped[:1300]\n",
    "Y_trn = labels[:1300]\n",
    "X_tst = final_sentences_reshaped[1300:]\n",
    "Y_tst = labels[1300:]\n",
    "\n",
    "# XGBOOST\n",
    "xgb = xg.XGBRegressor(objective='reg:linear', n_estimators=500, max_depth=4, learning_rate=0.01, gamma=0, subsample=0.50, colsample_bytree=0.6)\n",
    "xgb.fit(X_trn, Y_trn)\n",
    "\n",
    "real = Y_tst\n",
    "predecido = xgb.predict(X_tst)\n",
    "\n",
    "pearson_coef, p_value = stats.pearsonr(real, predecido) #define the columns to perform calculations on\n",
    "print(\"Pearson Correlation Coefficient: \", pearson_coef, \"and a P-value of:\", p_value) # Results\n",
    "\n",
    "'''# KERAS FCNN MODEL\n",
    "from keras.applications.vgg19 import VGG19\n",
    "model = VGG19(include_top=False, weights='imagenet', input_shape=(100, 60, 3))\n",
    "\n",
    "# Modificaciones\n",
    "x = model.output\n",
    "x = GlobalAveragePooling2D()(x)\n",
    "#x = Flatten()\n",
    "x = Dense(1024, activation='sigmoid')(x) #we add dense layers so that the model can learn more complex functions and classify for better results.\n",
    "x = Dense(1024, activation='sigmoid')(x) #dense layer 2\n",
    "x = Dense(512, activation='sigmoid')(x) #dense layer 3\n",
    "preds = Dense(1, activation='softmax')(x) #final layer with softmax activation\n",
    "\n",
    "model = Model(inputs=model.input, outputs=preds)\n",
    "\n",
    "model = tf.contrib.tpu.keras_to_tpu_model(model, strategy=tf.contrib.tpu.TPUDistributionStrategy(\n",
    "    tf.contrib.cluster_resolver.TPUClusterResolver(tpu='grpc://10.0.101.2:8470')))\n",
    "\n",
    "model.compile(loss='mean_squared_error', optimizer='rmsprop', metrics=['mse'])\n",
    "\n",
    "model.summary()\n",
    "\n",
    "model.fit(final_sentences_reshaped, labels, batch_size=32, epochs=200, verbose=2)\n",
    "\n",
    "\n",
    "# Keras FCNN model\n",
    "fcnn = Sequential()\n",
    "fcnn.add(Dense(300, input_shape=(180, 100), activation='tanh', kernel_initializer='normal'))\n",
    "fcnn.add(Flatten())\n",
    "fcnn.add(Dense(1, activation='sigmoid', kernel_initializer='normal'))\n",
    "\n",
    "fcnn.compile(loss='mean_squared_error', optimizer='rmsprop', metrics=['mse'])\n",
    "\n",
    "fcnn.summary()\n",
    "\n",
    "#fcnn.fit(final_sentences, labels, epochs=6, batch_size=32)\n",
    "\n",
    "early_stopping = EarlyStopping(monitor='loss', patience=3)\n",
    "#fcnn.fit(final_sentences_reshaped, labels, batch_size=32, epochs=200, verbose=2, validation_data=(final_sentences_reshaped, labels), callbacks=[early_stopping])\n",
    "fcnn.fit(final_sentences_reshaped, labels, batch_size=32, epochs=200, verbose=2, callbacks=[early_stopping])\n",
    "#fcnn.predict(X_trn, batch_size=1, verbose=2, steps=None)'''"
   ]
  },
  {
   "cell_type": "code",
   "execution_count": 23,
   "metadata": {},
   "outputs": [
    {
     "data": {
      "image/png": "[encoded data removed]",
      "text/plain": [
       "<Figure size 432x288 with 1 Axes>"
      ]
     },
     "metadata": {
      "needs_background": "light"
     },
     "output_type": "display_data"
    },
    {
     "data": {
      "text/plain": [
       "'Digraph.gv.png'"
      ]
     },
     "execution_count": 23,
     "metadata": {},
     "output_type": "execute_result"
    },
    {
     "data": {
      "text/plain": [
       "<Figure size 432x288 with 0 Axes>"
      ]
     },
     "metadata": {},
     "output_type": "display_data"
    }
   ],
   "source": [
    "plot_tree(xgb, rankdir=\"LR\")\n",
    "plt.show()\n",
    "plt.savefig('tree1.png')\n",
    "\n",
    "pp = xg.to_graphviz(xgb, num_trees=2, rankdir=\"LR\")\n",
    "pp.format = 'png'\n",
    "\n",
    "pp.render()"
   ]
  },
  {
   "cell_type": "code",
   "execution_count": null,
   "metadata": {},
   "outputs": [],
   "source": []
  }
 ],
 "metadata": {
  "kernelspec": {
   "display_name": "Python 3",
   "language": "python",
   "name": "python3"
  },
  "language_info": {
   "codemirror_mode": {
    "name": "ipython",
    "version": 3
   },
   "file_extension": ".py",
   "mimetype": "text/x-python",
   "name": "python",
   "nbconvert_exporter": "python",
   "pygments_lexer": "ipython3",
   "version": "3.6.7"
  }
 },
 "nbformat": 4,
 "nbformat_minor": 2
}
